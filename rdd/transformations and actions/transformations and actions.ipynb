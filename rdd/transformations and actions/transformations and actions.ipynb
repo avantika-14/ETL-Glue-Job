{
 "cells": [
  {
   "cell_type": "code",
   "execution_count": 0,
   "metadata": {
    "application/vnd.databricks.v1+cell": {
     "cellMetadata": {
      "byteLimit": 2048000,
      "rowLimit": 10000
     },
     "inputWidgets": {},
     "nuid": "3d4313b7-dd86-408c-a6b6-6b27498bf9a8",
     "showTitle": false,
     "title": ""
    }
   },
   "outputs": [
    {
     "output_type": "stream",
     "name": "stdout",
     "output_type": "stream",
     "text": [
      "hello world\n"
     ]
    }
   ],
   "source": [
    "print(\"hello world\")"
   ]
  },
  {
   "cell_type": "code",
   "execution_count": 0,
   "metadata": {
    "application/vnd.databricks.v1+cell": {
     "cellMetadata": {
      "byteLimit": 2048000,
      "rowLimit": 10000
     },
     "inputWidgets": {},
     "nuid": "16a12fd5-4bda-4f95-9494-caf08d4cd3e3",
     "showTitle": false,
     "title": ""
    }
   },
   "outputs": [],
   "source": [
    "from pyspark import SparkConf,SparkContext \n",
    "conf=SparkConf().setAppName(\"Read Files\")\n",
    "context=SparkContext.getOrCreate(conf=conf)"
   ]
  },
  {
   "cell_type": "code",
   "execution_count": 0,
   "metadata": {
    "application/vnd.databricks.v1+cell": {
     "cellMetadata": {
      "byteLimit": 2048000,
      "rowLimit": 10000
     },
     "inputWidgets": {},
     "nuid": "502e29dd-d1b1-4130-afbe-6e2c840c8135",
     "showTitle": false,
     "title": ""
    }
   },
   "outputs": [],
   "source": [
    "text=context.textFile('/FileStore/tables/sample.txt')"
   ]
  },
  {
   "cell_type": "code",
   "execution_count": 0,
   "metadata": {
    "application/vnd.databricks.v1+cell": {
     "cellMetadata": {
      "byteLimit": 2048000,
      "rowLimit": 10000
     },
     "inputWidgets": {},
     "nuid": "0d27501b-0dd9-4259-9c7b-67501532cf19",
     "showTitle": true,
     "title": "lazy execution"
    }
   },
   "outputs": [
    {
     "output_type": "stream",
     "name": "stdout",
     "output_type": "stream",
     "text": [
      "Out[4]: /FileStore/tables/sample.txt MapPartitionsRDD[1] at textFile at NativeMethodAccessorImpl.java:0"
     ]
    }
   ],
   "source": [
    "text #doesnt print anything, because it'll not do the action unless triggered, reffering to lazy execution"
   ]
  },
  {
   "cell_type": "code",
   "execution_count": 0,
   "metadata": {
    "application/vnd.databricks.v1+cell": {
     "cellMetadata": {
      "byteLimit": 2048000,
      "rowLimit": 10000
     },
     "inputWidgets": {},
     "nuid": "63a2a015-563f-474f-9b8e-a11fb9c91529",
     "showTitle": false,
     "title": ""
    }
   },
   "outputs": [
    {
     "output_type": "stream",
     "name": "stdout",
     "output_type": "stream",
     "text": [
      "Out[5]: ['1 2 3 4 5', '3 4 5 66 77', '12 43 7 8', '12 12 33']"
     ]
    }
   ],
   "source": [
    "text.collect()"
   ]
  },
  {
   "cell_type": "markdown",
   "metadata": {
    "application/vnd.databricks.v1+cell": {
     "cellMetadata": {},
     "inputWidgets": {},
     "nuid": "f8677750-1c92-4100-854e-79d9ec46a7a6",
     "showTitle": false,
     "title": ""
    }
   },
   "source": [
    "Transformations\n",
    "1. Map\n",
    "2. FlatMap\n",
    "3. filter\n",
    "4. distinct\n",
    "5. group by key\n",
    "6. reduce by key\n",
    "7. repartition\n",
    "8. coalesce"
   ]
  },
  {
   "cell_type": "code",
   "execution_count": 0,
   "metadata": {
    "application/vnd.databricks.v1+cell": {
     "cellMetadata": {
      "byteLimit": 2048000,
      "rowLimit": 10000
     },
     "inputWidgets": {},
     "nuid": "c76675f1-44a5-4ded-ac23-eeabc2366616",
     "showTitle": true,
     "title": "1. Map lambda function"
    }
   },
   "outputs": [
    {
     "output_type": "stream",
     "name": "stdout",
     "output_type": "stream",
     "text": [
      "Out[6]: [['1', '2', '3', '4', '5'],\n ['3', '4', '5', '66', '77'],\n ['12', '43', '7', '8'],\n ['12', '12', '33']]"
     ]
    }
   ],
   "source": [
    "rdd=text.map(lambda x: x.split(' '))\n",
    "#creates a new rdd which splits the output based on spaces, note that map function always creates new rdd\n",
    "rdd.collect()"
   ]
  },
  {
   "cell_type": "code",
   "execution_count": 0,
   "metadata": {
    "application/vnd.databricks.v1+cell": {
     "cellMetadata": {
      "byteLimit": 2048000,
      "rowLimit": 10000
     },
     "inputWidgets": {},
     "nuid": "0547a951-ab52-4342-ace1-c504dd041969",
     "showTitle": true,
     "title": "map without lambda function"
    }
   },
   "outputs": [
    {
     "output_type": "stream",
     "name": "stdout",
     "output_type": "stream",
     "text": [
      "Out[7]: [['1', '2', '3', '4', '5'],\n ['3', '4', '5', '66', '77'],\n ['12', '43', '7', '8'],\n ['12', '12', '33']]"
     ]
    }
   ],
   "source": [
    "#alternative for lambda function\n",
    "def new(x):\n",
    "    return x.split(' ')\n",
    "\n",
    "rdd1=text.map(new)\n",
    "rdd1.collect()"
   ]
  },
  {
   "cell_type": "code",
   "execution_count": 0,
   "metadata": {
    "application/vnd.databricks.v1+cell": {
     "cellMetadata": {
      "byteLimit": 2048000,
      "rowLimit": 10000
     },
     "inputWidgets": {},
     "nuid": "4416fed5-0ab1-442f-8510-1da1ed340269",
     "showTitle": true,
     "title": "converting all the elements to int"
    }
   },
   "outputs": [
    {
     "output_type": "stream",
     "name": "stdout",
     "output_type": "stream",
     "text": [
      "Out[8]: [[3, 4, 5, 6, 7], [5, 6, 7, 68, 79], [14, 45, 9, 10], [14, 14, 35]]"
     ]
    }
   ],
   "source": [
    "def newint(x):\n",
    "    #x -> '1 2 3 4 5'\n",
    "    l=x.split() \n",
    "    #l -> ['1','2','3','4','5']\n",
    "    l2=[]\n",
    "    for i in l:\n",
    "        l2.append(int(i)+2) #converting the numbers to integer from string and adding them with 2\n",
    "    return l2\n",
    "\n",
    "rdd2=text.map(newint)\n",
    "rdd2.collect()\n",
    "    \n",
    "    "
   ]
  },
  {
   "cell_type": "code",
   "execution_count": 0,
   "metadata": {
    "application/vnd.databricks.v1+cell": {
     "cellMetadata": {
      "byteLimit": 2048000,
      "rowLimit": 10000
     },
     "inputWidgets": {},
     "nuid": "372ea3a0-d238-4995-888d-13bf3d1326c5",
     "showTitle": true,
     "title": "2. FlatMap lambda function"
    }
   },
   "outputs": [
    {
     "output_type": "stream",
     "name": "stdout",
     "output_type": "stream",
     "text": [
      "Out[11]: ['1',\n '2',\n '3',\n '4',\n '5',\n '3',\n '4',\n '5',\n '66',\n '77',\n '12',\n '43',\n '7',\n '8',\n '12',\n '12',\n '33']"
     ]
    }
   ],
   "source": [
    "flatmap=text.flatMap(lambda x:x.split())\n",
    "flatmap.collect()"
   ]
  },
  {
   "cell_type": "code",
   "execution_count": 0,
   "metadata": {
    "application/vnd.databricks.v1+cell": {
     "cellMetadata": {
      "byteLimit": 2048000,
      "rowLimit": 10000
     },
     "inputWidgets": {},
     "nuid": "e4326849-8d49-4539-9c0b-8a3638b381aa",
     "showTitle": true,
     "title": "3. filter lambda function"
    }
   },
   "outputs": [
    {
     "output_type": "stream",
     "name": "stdout",
     "output_type": "stream",
     "text": [
      "Out[13]: ['1 2 3 4 5', '3 4 5 66 77', '12 43 7 8']"
     ]
    }
   ],
   "source": [
    "rddfilter=text.filter(lambda x:x!='12 12 33')\n",
    "rddfilter.collect()"
   ]
  },
  {
   "cell_type": "code",
   "execution_count": 0,
   "metadata": {
    "application/vnd.databricks.v1+cell": {
     "cellMetadata": {
      "byteLimit": 2048000,
      "rowLimit": 10000
     },
     "inputWidgets": {},
     "nuid": "ee783a0e-1a66-4857-92ab-de4eacdb0119",
     "showTitle": true,
     "title": "filter without lambda function"
    }
   },
   "outputs": [
    {
     "output_type": "stream",
     "name": "stdout",
     "output_type": "stream",
     "text": [
      "Out[14]: ['1 2 3 4 5', '3 4 5 66 77', '12 43 7 8']"
     ]
    }
   ],
   "source": [
    "def fil(x):\n",
    "    if x=='12 12 33':\n",
    "        return False\n",
    "    else:\n",
    "        return True\n",
    "rddfil=text.filter(fil)\n",
    "rddfil.collect()"
   ]
  },
  {
   "cell_type": "code",
   "execution_count": 0,
   "metadata": {
    "application/vnd.databricks.v1+cell": {
     "cellMetadata": {
      "byteLimit": 2048000,
      "rowLimit": 10000
     },
     "inputWidgets": {},
     "nuid": "23f6079f-bb18-40e7-bf4a-269e052677e2",
     "showTitle": true,
     "title": "4. distinct"
    }
   },
   "outputs": [
    {
     "output_type": "stream",
     "name": "stdout",
     "output_type": "stream",
     "text": [
      "Out[16]: ['1', '4', '66', '77', '12', '8', '33', '2', '3', '5', '43', '7']"
     ]
    }
   ],
   "source": [
    "distinct=flatmap.distinct() #we are choosing flatmap so that it parses through each and every element\n",
    "distinct.collect()"
   ]
  },
  {
   "cell_type": "code",
   "execution_count": 0,
   "metadata": {
    "application/vnd.databricks.v1+cell": {
     "cellMetadata": {
      "byteLimit": 2048000,
      "rowLimit": 10000
     },
     "inputWidgets": {},
     "nuid": "e064d2a7-caa7-4de5-9050-f1a96a4221a2",
     "showTitle": true,
     "title": "shorter version of the above statement"
    }
   },
   "outputs": [
    {
     "output_type": "stream",
     "name": "stdout",
     "output_type": "stream",
     "text": [
      "Out[17]: ['1', '4', '66', '77', '12', '8', '33', '2', '3', '5', '43', '7']"
     ]
    }
   ],
   "source": [
    "flatmap.distinct().collect()"
   ]
  },
  {
   "cell_type": "code",
   "execution_count": 0,
   "metadata": {
    "application/vnd.databricks.v1+cell": {
     "cellMetadata": {
      "byteLimit": 2048000,
      "rowLimit": 10000
     },
     "inputWidgets": {},
     "nuid": "8c7aed2a-6389-4c17-b4f1-64e44768fc5e",
     "showTitle": true,
     "title": "5. group by key"
    }
   },
   "outputs": [
    {
     "output_type": "stream",
     "name": "stdout",
     "output_type": "stream",
     "text": [
      "Out[22]: [('1', 1),\n ('2', 1),\n ('3', 1),\n ('4', 1),\n ('5', 1),\n ('3', 1),\n ('4', 1),\n ('5', 1),\n ('66', 2),\n ('77', 2),\n ('12', 2),\n ('43', 2),\n ('7', 1),\n ('8', 1),\n ('12', 2),\n ('12', 2),\n ('33', 2)]"
     ]
    }
   ],
   "source": [
    "keyvalue=flatmap.map(lambda x:(x,len(x)))\n",
    "keyvalue.collect()  #normal key value pair is taken here"
   ]
  },
  {
   "cell_type": "code",
   "execution_count": 0,
   "metadata": {
    "application/vnd.databricks.v1+cell": {
     "cellMetadata": {
      "byteLimit": 2048000,
      "rowLimit": 10000
     },
     "inputWidgets": {},
     "nuid": "6bf5b69e-589a-43a2-967f-f6c30d362330",
     "showTitle": false,
     "title": ""
    }
   },
   "outputs": [
    {
     "output_type": "stream",
     "name": "stdout",
     "output_type": "stream",
     "text": [
      "Out[24]: [('1', <pyspark.resultiterable.ResultIterable at 0x7fda636b6730>),\n ('4', <pyspark.resultiterable.ResultIterable at 0x7fda68076d60>),\n ('66', <pyspark.resultiterable.ResultIterable at 0x7fda68076bb0>),\n ('77', <pyspark.resultiterable.ResultIterable at 0x7fda63a6f5b0>),\n ('12', <pyspark.resultiterable.ResultIterable at 0x7fda63a6f970>),\n ('8', <pyspark.resultiterable.ResultIterable at 0x7fda63a6f9a0>),\n ('33', <pyspark.resultiterable.ResultIterable at 0x7fda63a6fcd0>),\n ('2', <pyspark.resultiterable.ResultIterable at 0x7fda63a6fc70>),\n ('3', <pyspark.resultiterable.ResultIterable at 0x7fda63a6f340>),\n ('5', <pyspark.resultiterable.ResultIterable at 0x7fda63a6ff10>),\n ('43', <pyspark.resultiterable.ResultIterable at 0x7fda63a6f250>),\n ('7', <pyspark.resultiterable.ResultIterable at 0x7fda63a6f820>)]"
     ]
    }
   ],
   "source": [
    "keyvalue.groupByKey().collect() #here the key value pairs are grouped together"
   ]
  },
  {
   "cell_type": "code",
   "execution_count": 0,
   "metadata": {
    "application/vnd.databricks.v1+cell": {
     "cellMetadata": {
      "byteLimit": 2048000,
      "rowLimit": 10000
     },
     "inputWidgets": {},
     "nuid": "cbd79e99-7bdc-453e-9830-fe5af44796dd",
     "showTitle": false,
     "title": ""
    }
   },
   "outputs": [
    {
     "output_type": "stream",
     "name": "stdout",
     "output_type": "stream",
     "text": [
      "Out[25]: [('1', [1]),\n ('4', [1, 1]),\n ('66', [2]),\n ('77', [2]),\n ('12', [2, 2, 2]),\n ('8', [1]),\n ('33', [2]),\n ('2', [1]),\n ('3', [1, 1]),\n ('5', [1, 1]),\n ('43', [2]),\n ('7', [1])]"
     ]
    }
   ],
   "source": [
    "keyvalue.groupByKey().mapValues(list).collect() #the values for the keys are showed in a list"
   ]
  },
  {
   "cell_type": "code",
   "execution_count": 0,
   "metadata": {
    "application/vnd.databricks.v1+cell": {
     "cellMetadata": {
      "byteLimit": 2048000,
      "rowLimit": 10000
     },
     "inputWidgets": {},
     "nuid": "80297d2c-589e-45e3-8c6b-de31541488d7",
     "showTitle": true,
     "title": "6. reduce by key"
    }
   },
   "outputs": [
    {
     "output_type": "stream",
     "name": "stdout",
     "output_type": "stream",
     "text": [
      "Out[26]: [('1', 1),\n ('4', 2),\n ('66', 2),\n ('77', 2),\n ('12', 6),\n ('8', 1),\n ('33', 2),\n ('2', 1),\n ('3', 2),\n ('5', 2),\n ('43', 2),\n ('7', 1)]"
     ]
    }
   ],
   "source": [
    "keyvalue.reduceByKey(lambda x,y:x+y).collect()"
   ]
  },
  {
   "cell_type": "code",
   "execution_count": 0,
   "metadata": {
    "application/vnd.databricks.v1+cell": {
     "cellMetadata": {
      "byteLimit": 2048000,
      "rowLimit": 10000
     },
     "inputWidgets": {},
     "nuid": "1e65d28f-b470-4adc-a37f-54637b1f0679",
     "showTitle": true,
     "title": "7. repartitions"
    }
   },
   "outputs": [
    {
     "output_type": "stream",
     "name": "stdout",
     "output_type": "stream",
     "text": [
      "Out[31]: 2"
     ]
    }
   ],
   "source": [
    "text.getNumPartitions()"
   ]
  },
  {
   "cell_type": "code",
   "execution_count": 0,
   "metadata": {
    "application/vnd.databricks.v1+cell": {
     "cellMetadata": {
      "byteLimit": 2048000,
      "rowLimit": 10000
     },
     "inputWidgets": {},
     "nuid": "6edcc6e5-53bf-44e1-b9db-8e3dc47f105a",
     "showTitle": false,
     "title": ""
    }
   },
   "outputs": [
    {
     "output_type": "stream",
     "name": "stdout",
     "output_type": "stream",
     "text": [
      "Out[35]: 5"
     ]
    }
   ],
   "source": [
    "text1=text.repartition(5)\n",
    "text1.getNumPartitions()\n",
    "#this increasing or decreasing of partitions is done to increase the speed of the code, could help in parallelization"
   ]
  },
  {
   "cell_type": "code",
   "execution_count": 0,
   "metadata": {
    "application/vnd.databricks.v1+cell": {
     "cellMetadata": {
      "byteLimit": 2048000,
      "rowLimit": 10000
     },
     "inputWidgets": {},
     "nuid": "ae5bdb45-844f-40aa-b195-23108799bc13",
     "showTitle": false,
     "title": ""
    }
   },
   "outputs": [],
   "source": [
    "text2=text1.flatMap(lambda x:x.split(' ')).map(lambda x:(x,1))\n",
    "text2.saveAsTextFile('/FileStore/tables/output/5partitions')"
   ]
  },
  {
   "cell_type": "code",
   "execution_count": 0,
   "metadata": {
    "application/vnd.databricks.v1+cell": {
     "cellMetadata": {
      "byteLimit": 2048000,
      "rowLimit": 10000
     },
     "inputWidgets": {},
     "nuid": "a22a8814-3402-4a43-9112-8f7e6bfea55e",
     "showTitle": false,
     "title": ""
    }
   },
   "outputs": [
    {
     "output_type": "stream",
     "name": "stdout",
     "output_type": "stream",
     "text": [
      "Out[41]: 5"
     ]
    }
   ],
   "source": [
    "text1.getNumPartitions()"
   ]
  },
  {
   "cell_type": "code",
   "execution_count": 0,
   "metadata": {
    "application/vnd.databricks.v1+cell": {
     "cellMetadata": {
      "byteLimit": 2048000,
      "rowLimit": 10000
     },
     "inputWidgets": {},
     "nuid": "5ba59d02-c00d-49dd-88db-1b00d462dd48",
     "showTitle": true,
     "title": "8. coalesce"
    }
   },
   "outputs": [],
   "source": [
    "text2=text2.coalesce(3)\n",
    "text2.saveAsTextFile('/FileStore/tables/output/3partitions')"
   ]
  },
  {
   "cell_type": "markdown",
   "metadata": {
    "application/vnd.databricks.v1+cell": {
     "cellMetadata": {},
     "inputWidgets": {},
     "nuid": "47c4867f-1e24-4923-91ca-7989c6539638",
     "showTitle": false,
     "title": ""
    }
   },
   "source": [
    "Actions\n",
    "1. collect\n",
    "2. count\n",
    "3. count by value"
   ]
  },
  {
   "cell_type": "code",
   "execution_count": 0,
   "metadata": {
    "application/vnd.databricks.v1+cell": {
     "cellMetadata": {
      "byteLimit": 2048000,
      "rowLimit": 10000
     },
     "inputWidgets": {},
     "nuid": "b3600c01-c202-4471-a7a4-378e68657ca4",
     "showTitle": true,
     "title": "count"
    }
   },
   "outputs": [
    {
     "output_type": "stream",
     "name": "stdout",
     "output_type": "stream",
     "text": [
      "Out[27]: 4"
     ]
    }
   ],
   "source": [
    "text.count()"
   ]
  },
  {
   "cell_type": "code",
   "execution_count": 0,
   "metadata": {
    "application/vnd.databricks.v1+cell": {
     "cellMetadata": {
      "byteLimit": 2048000,
      "rowLimit": 10000
     },
     "inputWidgets": {},
     "nuid": "a13faddd-707a-4e0e-bb3e-43a064bfedd0",
     "showTitle": false,
     "title": ""
    }
   },
   "outputs": [
    {
     "output_type": "stream",
     "name": "stdout",
     "output_type": "stream",
     "text": [
      "Out[28]: 17"
     ]
    }
   ],
   "source": [
    "flatmap.count()"
   ]
  },
  {
   "cell_type": "code",
   "execution_count": 0,
   "metadata": {
    "application/vnd.databricks.v1+cell": {
     "cellMetadata": {
      "byteLimit": 2048000,
      "rowLimit": 10000
     },
     "inputWidgets": {},
     "nuid": "5806a391-7964-4c21-8da2-8ff591040535",
     "showTitle": true,
     "title": "count by value"
    }
   },
   "outputs": [
    {
     "output_type": "stream",
     "name": "stdout",
     "output_type": "stream",
     "text": [
      "Out[29]: defaultdict(int,\n            {'1': 1,\n             '2': 1,\n             '3': 2,\n             '4': 2,\n             '5': 2,\n             '66': 1,\n             '77': 1,\n             '12': 3,\n             '43': 1,\n             '7': 1,\n             '8': 1,\n             '33': 1})"
     ]
    }
   ],
   "source": [
    "flatmap.countByValue()"
   ]
  },
  {
   "cell_type": "code",
   "execution_count": 0,
   "metadata": {
    "application/vnd.databricks.v1+cell": {
     "cellMetadata": {},
     "inputWidgets": {},
     "nuid": "08c10aba-f3e2-4669-bdca-ace070a61af9",
     "showTitle": false,
     "title": ""
    }
   },
   "outputs": [],
   "source": []
  }
 ],
 "metadata": {
  "application/vnd.databricks.v1+notebook": {
   "dashboards": [],
   "environmentMetadata": null,
   "language": "python",
   "notebookMetadata": {
    "pythonIndentUnit": 4
   },
   "notebookName": "notebook 1",
   "widgets": {}
  }
 },
 "nbformat": 4,
 "nbformat_minor": 0
}
