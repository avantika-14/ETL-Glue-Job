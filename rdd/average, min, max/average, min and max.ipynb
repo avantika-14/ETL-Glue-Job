{
 "cells": [
  {
   "cell_type": "code",
   "execution_count": 0,
   "metadata": {
    "application/vnd.databricks.v1+cell": {
     "cellMetadata": {
      "byteLimit": 2048000,
      "rowLimit": 10000
     },
     "inputWidgets": {},
     "nuid": "caf5852a-83ce-481f-95eb-f66e0618ceea",
     "showTitle": false,
     "title": ""
    }
   },
   "outputs": [],
   "source": [
    "from pyspark import SparkConf,SparkContext\n",
    "conf=SparkConf().setAppName(\"Average\")\n",
    "sc=SparkContext.getOrCreate(conf=conf)"
   ]
  },
  {
   "cell_type": "code",
   "execution_count": 0,
   "metadata": {
    "application/vnd.databricks.v1+cell": {
     "cellMetadata": {
      "byteLimit": 2048000,
      "rowLimit": 10000
     },
     "inputWidgets": {},
     "nuid": "26869506-6992-4bec-b405-a2b301d6347c",
     "showTitle": false,
     "title": ""
    }
   },
   "outputs": [
    {
     "output_type": "stream",
     "name": "stdout",
     "output_type": "stream",
     "text": [
      "Out[36]: ['The Shawshank Redemption,3',\n 'The Matrix,5',\n '12 Angry Men,3',\n '12 Angry Men,4',\n 'The Matrix,5',\n 'Pulp Fiction,4',\n 'The Godfather,5',\n 'The Shawshank Redemption,2',\n 'Pulp Fiction,4',\n 'The Godfather,5',\n '12 Angry Men,2',\n 'The Godfather,3',\n 'Pulp Fiction,4',\n '12 Angry Men,1',\n 'The Shawshank Redemption,2',\n '12 Angry Men,1',\n 'The Shawshank Redemption,5',\n 'Pulp Fiction,5',\n 'Pulp Fiction,2',\n 'The Matrix,4']"
     ]
    }
   ],
   "source": [
    "rdd=sc.textFile('/FileStore/tables/movie_ratings-1.csv')\n",
    "rdd.collect()"
   ]
  },
  {
   "cell_type": "code",
   "execution_count": 0,
   "metadata": {
    "application/vnd.databricks.v1+cell": {
     "cellMetadata": {
      "byteLimit": 2048000,
      "rowLimit": 10000
     },
     "inputWidgets": {},
     "nuid": "18fd26b0-de37-4c9c-b7be-83120bd3bc10",
     "showTitle": false,
     "title": ""
    }
   },
   "outputs": [
    {
     "output_type": "stream",
     "name": "stdout",
     "output_type": "stream",
     "text": [
      "Out[37]: [('The Shawshank Redemption', '3'),\n ('The Matrix', '5'),\n ('12 Angry Men', '3'),\n ('12 Angry Men', '4'),\n ('The Matrix', '5'),\n ('Pulp Fiction', '4'),\n ('The Godfather', '5'),\n ('The Shawshank Redemption', '2'),\n ('Pulp Fiction', '4'),\n ('The Godfather', '5'),\n ('12 Angry Men', '2'),\n ('The Godfather', '3'),\n ('Pulp Fiction', '4'),\n ('12 Angry Men', '1'),\n ('The Shawshank Redemption', '2'),\n ('12 Angry Men', '1'),\n ('The Shawshank Redemption', '5'),\n ('Pulp Fiction', '5'),\n ('Pulp Fiction', '2'),\n ('The Matrix', '4')]"
     ]
    }
   ],
   "source": [
    "#converting into tuples\n",
    "rdd.map(lambda x:(x.split(',')[0],x.split(',')[1])).collect() #the ratings is a string and needs to be converted to int"
   ]
  },
  {
   "cell_type": "code",
   "execution_count": 0,
   "metadata": {
    "application/vnd.databricks.v1+cell": {
     "cellMetadata": {
      "byteLimit": 2048000,
      "rowLimit": 10000
     },
     "inputWidgets": {},
     "nuid": "6bbffe72-efb9-49e3-9dea-e13d12ecadce",
     "showTitle": false,
     "title": ""
    }
   },
   "outputs": [
    {
     "output_type": "stream",
     "name": "stdout",
     "output_type": "stream",
     "text": [
      "Out[38]: [('The Shawshank Redemption', 3),\n ('The Matrix', 5),\n ('12 Angry Men', 3),\n ('12 Angry Men', 4),\n ('The Matrix', 5),\n ('Pulp Fiction', 4),\n ('The Godfather', 5),\n ('The Shawshank Redemption', 2),\n ('Pulp Fiction', 4),\n ('The Godfather', 5),\n ('12 Angry Men', 2),\n ('The Godfather', 3),\n ('Pulp Fiction', 4),\n ('12 Angry Men', 1),\n ('The Shawshank Redemption', 2),\n ('12 Angry Men', 1),\n ('The Shawshank Redemption', 5),\n ('Pulp Fiction', 5),\n ('Pulp Fiction', 2),\n ('The Matrix', 4)]"
     ]
    }
   ],
   "source": [
    "text=rdd.map(lambda x:(x.split(',')[0],int(x.split(',')[1])))\n",
    "text.collect()"
   ]
  },
  {
   "cell_type": "markdown",
   "metadata": {
    "application/vnd.databricks.v1+cell": {
     "cellMetadata": {
      "byteLimit": 2048000,
      "rowLimit": 10000
     },
     "inputWidgets": {},
     "nuid": "537a71ec-f9d1-4970-b426-23cddd69578b",
     "showTitle": false,
     "title": ""
    }
   },
   "source": [
    "1. average"
   ]
  },
  {
   "cell_type": "code",
   "execution_count": 0,
   "metadata": {
    "application/vnd.databricks.v1+cell": {
     "cellMetadata": {
      "byteLimit": 2048000,
      "rowLimit": 10000
     },
     "inputWidgets": {},
     "nuid": "2d826c13-fe5a-4cfd-bfdf-716236dcdd71",
     "showTitle": false,
     "title": ""
    }
   },
   "outputs": [
    {
     "output_type": "stream",
     "name": "stdout",
     "output_type": "stream",
     "text": [
      "Out[39]: [('The Shawshank Redemption', (3, 1)),\n ('The Matrix', (5, 1)),\n ('12 Angry Men', (3, 1)),\n ('12 Angry Men', (4, 1)),\n ('The Matrix', (5, 1)),\n ('Pulp Fiction', (4, 1)),\n ('The Godfather', (5, 1)),\n ('The Shawshank Redemption', (2, 1)),\n ('Pulp Fiction', (4, 1)),\n ('The Godfather', (5, 1)),\n ('12 Angry Men', (2, 1)),\n ('The Godfather', (3, 1)),\n ('Pulp Fiction', (4, 1)),\n ('12 Angry Men', (1, 1)),\n ('The Shawshank Redemption', (2, 1)),\n ('12 Angry Men', (1, 1)),\n ('The Shawshank Redemption', (5, 1)),\n ('Pulp Fiction', (5, 1)),\n ('Pulp Fiction', (2, 1)),\n ('The Matrix', (4, 1))]"
     ]
    }
   ],
   "source": [
    "rdd1 = rdd.map(lambda x:(x.split(',')[0], (int(x.split(',')[1]),1) )) #the 1 is added to know the count of each element lateron\n",
    "rdd1.collect()"
   ]
  },
  {
   "cell_type": "code",
   "execution_count": 0,
   "metadata": {
    "application/vnd.databricks.v1+cell": {
     "cellMetadata": {
      "byteLimit": 2048000,
      "rowLimit": 10000
     },
     "inputWidgets": {},
     "nuid": "edd95cd6-9609-4b3f-864e-0909e6643dc7",
     "showTitle": false,
     "title": ""
    }
   },
   "outputs": [
    {
     "output_type": "stream",
     "name": "stdout",
     "output_type": "stream",
     "text": [
      "Out[40]: [('The Shawshank Redemption', (12, 4)),\n ('12 Angry Men', (11, 5)),\n ('The Godfather', (13, 3)),\n ('The Matrix', (14, 3)),\n ('Pulp Fiction', (19, 5))]"
     ]
    }
   ],
   "source": [
    "rdd2 = rdd1.reduceByKey(lambda x,y: ( (x[0]+y[0]),(x[1]+y[1]) ))\n",
    "rdd2.collect()"
   ]
  },
  {
   "cell_type": "code",
   "execution_count": 0,
   "metadata": {
    "application/vnd.databricks.v1+cell": {
     "cellMetadata": {
      "byteLimit": 2048000,
      "rowLimit": 10000
     },
     "inputWidgets": {},
     "nuid": "c3aa40ac-f382-4b79-9f25-bd93e17e2095",
     "showTitle": false,
     "title": ""
    }
   },
   "outputs": [
    {
     "output_type": "stream",
     "name": "stdout",
     "output_type": "stream",
     "text": [
      "Out[41]: [('The Shawshank Redemption', 3.0),\n ('12 Angry Men', 2.2),\n ('The Godfather', 4.333333333333333),\n ('The Matrix', 4.666666666666667),\n ('Pulp Fiction', 3.8)]"
     ]
    }
   ],
   "source": [
    "rdd2.map(lambda x: (x[0], (x[1][0]/x[1][1]) )).collect()"
   ]
  },
  {
   "cell_type": "code",
   "execution_count": 0,
   "metadata": {
    "application/vnd.databricks.v1+cell": {
     "cellMetadata": {
      "byteLimit": 2048000,
      "rowLimit": 10000
     },
     "inputWidgets": {},
     "nuid": "77a6a34d-8224-49a2-a327-e9bc66a9fb7a",
     "showTitle": false,
     "title": ""
    }
   },
   "outputs": [
    {
     "output_type": "stream",
     "name": "stdout",
     "output_type": "stream",
     "text": [
      "Out[42]: [('The Shawshank Redemption', 3.0),\n ('12 Angry Men', 2.2),\n ('The Godfather', 4.33),\n ('The Matrix', 4.67),\n ('Pulp Fiction', 3.8)]"
     ]
    }
   ],
   "source": [
    "rdd3 = rdd2.map(lambda x: (x[0], round( (x[1][0]/x[1][1]) , 2) )) #rounding off the decimal places to 2\n",
    "rdd3.collect()"
   ]
  },
  {
   "cell_type": "markdown",
   "metadata": {
    "application/vnd.databricks.v1+cell": {
     "cellMetadata": {
      "byteLimit": 2048000,
      "rowLimit": 10000
     },
     "inputWidgets": {},
     "nuid": "7862e512-51e5-47dc-8e61-ad8a5bf1cd5e",
     "showTitle": false,
     "title": ""
    }
   },
   "source": [
    "2. minimum"
   ]
  },
  {
   "cell_type": "code",
   "execution_count": 0,
   "metadata": {
    "application/vnd.databricks.v1+cell": {
     "cellMetadata": {
      "byteLimit": 2048000,
      "rowLimit": 10000
     },
     "inputWidgets": {},
     "nuid": "f47023f7-7925-4dae-af76-a04a2108ac74",
     "showTitle": false,
     "title": ""
    }
   },
   "outputs": [
    {
     "output_type": "stream",
     "name": "stdout",
     "output_type": "stream",
     "text": [
      "Out[45]: [('The Shawshank Redemption', 2),\n ('12 Angry Men', 1),\n ('The Godfather', 3),\n ('The Matrix', 4),\n ('Pulp Fiction', 2)]"
     ]
    }
   ],
   "source": [
    "text1 = text.reduceByKey(lambda x,y:x if x<y else y)\n",
    "text1.collect()"
   ]
  },
  {
   "cell_type": "markdown",
   "metadata": {
    "application/vnd.databricks.v1+cell": {
     "cellMetadata": {
      "byteLimit": 2048000,
      "rowLimit": 10000
     },
     "inputWidgets": {},
     "nuid": "e4acd619-c317-467b-973e-b5fa6232b5ee",
     "showTitle": false,
     "title": ""
    }
   },
   "source": [
    "3. maximum"
   ]
  },
  {
   "cell_type": "code",
   "execution_count": 0,
   "metadata": {
    "application/vnd.databricks.v1+cell": {
     "cellMetadata": {
      "byteLimit": 2048000,
      "rowLimit": 10000
     },
     "inputWidgets": {},
     "nuid": "c32b5c77-14f3-4535-9a4c-7e5369eb3d79",
     "showTitle": false,
     "title": ""
    }
   },
   "outputs": [
    {
     "output_type": "stream",
     "name": "stdout",
     "output_type": "stream",
     "text": [
      "Out[44]: [('The Shawshank Redemption', 5),\n ('12 Angry Men', 4),\n ('The Godfather', 5),\n ('The Matrix', 5),\n ('Pulp Fiction', 5)]"
     ]
    }
   ],
   "source": [
    "text.reduceByKey(lambda x,y:x if x>y else y).collect()"
   ]
  }
 ],
 "metadata": {
  "application/vnd.databricks.v1+notebook": {
   "dashboards": [],
   "environmentMetadata": null,
   "language": "python",
   "notebookMetadata": {
    "pythonIndentUnit": 4
   },
   "notebookName": "average, min and max",
   "widgets": {}
  }
 },
 "nbformat": 4,
 "nbformat_minor": 0
}
