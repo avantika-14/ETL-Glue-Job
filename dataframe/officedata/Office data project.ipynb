{
 "cells": [
  {
   "cell_type": "code",
   "execution_count": 0,
   "metadata": {
    "application/vnd.databricks.v1+cell": {
     "cellMetadata": {
      "byteLimit": 2048000,
      "rowLimit": 10000
     },
     "inputWidgets": {},
     "nuid": "e5e5d7da-80f1-4e1e-bd70-212f5a80920c",
     "showTitle": false,
     "title": ""
    }
   },
   "outputs": [],
   "source": [
    "from pyspark.sql import SparkSession\n",
    "from pyspark.sql.types import DoubleType, IntegerType\n",
    "from pyspark.sql.functions import col, lit, udf\n",
    "from pyspark.sql.functions import sum,avg,max,min,mean,count\n",
    "spark = SparkSession.builder.appName(\"Mini Project\").getOrCreate()\n"
   ]
  },
  {
   "cell_type": "code",
   "execution_count": 0,
   "metadata": {
    "application/vnd.databricks.v1+cell": {
     "cellMetadata": {
      "byteLimit": 2048000,
      "rowLimit": 10000
     },
     "inputWidgets": {},
     "nuid": "71622a2c-5613-406f-a05a-04cd971ba423",
     "showTitle": false,
     "title": ""
    }
   },
   "outputs": [
    {
     "output_type": "stream",
     "name": "stdout",
     "output_type": "stream",
     "text": [
      "+-----------+-----------------+----------+-----+------+---+-----+\n|employee_id|    employee_name|department|state|salary|age|bonus|\n+-----------+-----------------+----------+-----+------+---+-----+\n|       1000|        Nitz Leif| Marketing|   CA|  6131| 26|  543|\n|       1001|  Melissia Dedman|   Finance|   AK|  4027| 43| 1290|\n|       1002|Rudolph Barringer|        HR|   LA|  3122| 43| 1445|\n|       1003|      Tamra Amber|  Accounts|   AK|  5717| 47| 1291|\n|       1004|      Mullan Nitz|Purchasing|   CA|  5685| 34| 1394|\n+-----------+-----------------+----------+-----+------+---+-----+\nonly showing top 5 rows\n\n"
     ]
    }
   ],
   "source": [
    "df = spark.read.options(header='True', inferSchema='True').csv('/FileStore/tables/OfficeDataProject.csv')\n",
    "df.show(5)"
   ]
  },
  {
   "cell_type": "markdown",
   "metadata": {
    "application/vnd.databricks.v1+cell": {
     "cellMetadata": {},
     "inputWidgets": {},
     "nuid": "5532710a-fa71-4f65-899a-bfab91425c35",
     "showTitle": false,
     "title": ""
    }
   },
   "source": [
    "1. show the total number of employees in the company\n"
   ]
  },
  {
   "cell_type": "code",
   "execution_count": 0,
   "metadata": {
    "application/vnd.databricks.v1+cell": {
     "cellMetadata": {
      "byteLimit": 2048000,
      "rowLimit": 10000
     },
     "inputWidgets": {},
     "nuid": "073e00af-df46-4662-837a-9eebeb22fb45",
     "showTitle": false,
     "title": ""
    }
   },
   "outputs": [
    {
     "output_type": "stream",
     "name": "stdout",
     "output_type": "stream",
     "text": [
      "Out[6]: 1000"
     ]
    }
   ],
   "source": [
    "df.count()"
   ]
  },
  {
   "cell_type": "markdown",
   "metadata": {
    "application/vnd.databricks.v1+cell": {
     "cellMetadata": {},
     "inputWidgets": {},
     "nuid": "e5979395-1086-4462-b466-9dbbb6ba92ce",
     "showTitle": false,
     "title": ""
    }
   },
   "source": [
    "2. show the total number of departments in the company"
   ]
  },
  {
   "cell_type": "code",
   "execution_count": 0,
   "metadata": {
    "application/vnd.databricks.v1+cell": {
     "cellMetadata": {
      "byteLimit": 2048000,
      "rowLimit": 10000
     },
     "inputWidgets": {},
     "nuid": "b6f3bcca-9c2e-4f6d-abe2-18b12ddfb0f8",
     "showTitle": false,
     "title": ""
    }
   },
   "outputs": [
    {
     "output_type": "stream",
     "name": "stdout",
     "output_type": "stream",
     "text": [
      "Out[8]: 6"
     ]
    }
   ],
   "source": [
    "df.groupBy(\"department\").count().count()"
   ]
  },
  {
   "cell_type": "code",
   "execution_count": 0,
   "metadata": {
    "application/vnd.databricks.v1+cell": {
     "cellMetadata": {
      "byteLimit": 2048000,
      "rowLimit": 10000
     },
     "inputWidgets": {},
     "nuid": "9666c2d2-d68c-48ef-b183-501b919bcb8e",
     "showTitle": false,
     "title": ""
    }
   },
   "outputs": [
    {
     "output_type": "stream",
     "name": "stdout",
     "output_type": "stream",
     "text": [
      "Out[7]: 6"
     ]
    }
   ],
   "source": [
    "df.select(\"department\").dropDuplicates([\"department\"]).count()"
   ]
  },
  {
   "cell_type": "markdown",
   "metadata": {
    "application/vnd.databricks.v1+cell": {
     "cellMetadata": {},
     "inputWidgets": {},
     "nuid": "8bf13cbd-ac2c-493a-9a80-cf3a21dd9d0f",
     "showTitle": false,
     "title": ""
    }
   },
   "source": [
    "3. show the department names of the company\n"
   ]
  },
  {
   "cell_type": "code",
   "execution_count": 0,
   "metadata": {
    "application/vnd.databricks.v1+cell": {
     "cellMetadata": {
      "byteLimit": 2048000,
      "rowLimit": 10000
     },
     "inputWidgets": {},
     "nuid": "0c49b571-0004-4086-af65-a4ea8fef0739",
     "showTitle": false,
     "title": ""
    }
   },
   "outputs": [
    {
     "output_type": "stream",
     "name": "stdout",
     "output_type": "stream",
     "text": [
      "+----------+\n|department|\n+----------+\n|     Sales|\n|        HR|\n|   Finance|\n|Purchasing|\n| Marketing|\n|  Accounts|\n+----------+\n\n"
     ]
    }
   ],
   "source": [
    "df.select(\"department\").dropDuplicates([\"department\"]).show()"
   ]
  },
  {
   "cell_type": "markdown",
   "metadata": {
    "application/vnd.databricks.v1+cell": {
     "cellMetadata": {},
     "inputWidgets": {},
     "nuid": "cf4ccd81-079b-42be-a2d3-366a42dcc7c0",
     "showTitle": false,
     "title": ""
    }
   },
   "source": [
    "4. total number of employees in each department\n"
   ]
  },
  {
   "cell_type": "code",
   "execution_count": 0,
   "metadata": {
    "application/vnd.databricks.v1+cell": {
     "cellMetadata": {
      "byteLimit": 2048000,
      "rowLimit": 10000
     },
     "inputWidgets": {},
     "nuid": "483fad99-ccc1-4527-af51-d34b96a64785",
     "showTitle": false,
     "title": ""
    }
   },
   "outputs": [
    {
     "output_type": "stream",
     "name": "stdout",
     "output_type": "stream",
     "text": [
      "+----------+-----+\n|department|count|\n+----------+-----+\n|     Sales|  169|\n|        HR|  171|\n|   Finance|  162|\n|Purchasing|  166|\n| Marketing|  170|\n|  Accounts|  162|\n+----------+-----+\n\n"
     ]
    }
   ],
   "source": [
    "df.groupBy('department').count().show()"
   ]
  },
  {
   "cell_type": "markdown",
   "metadata": {
    "application/vnd.databricks.v1+cell": {
     "cellMetadata": {},
     "inputWidgets": {},
     "nuid": "0acc0abd-3213-4ee3-b3a7-18e50cd40f57",
     "showTitle": false,
     "title": ""
    }
   },
   "source": [
    "5. total number of employees in each state"
   ]
  },
  {
   "cell_type": "code",
   "execution_count": 0,
   "metadata": {
    "application/vnd.databricks.v1+cell": {
     "cellMetadata": {
      "byteLimit": 2048000,
      "rowLimit": 10000
     },
     "inputWidgets": {},
     "nuid": "60404da0-88e1-44bd-9c22-9bf1543df8dc",
     "showTitle": false,
     "title": ""
    }
   },
   "outputs": [
    {
     "output_type": "stream",
     "name": "stdout",
     "output_type": "stream",
     "text": [
      "+-----+-----+\n|state|count|\n+-----+-----+\n|   LA|  205|\n|   CA|  205|\n|   WA|  208|\n|   NY|  173|\n|   AK|  209|\n+-----+-----+\n\n"
     ]
    }
   ],
   "source": [
    "df.groupBy('state').count().show()"
   ]
  },
  {
   "cell_type": "markdown",
   "metadata": {
    "application/vnd.databricks.v1+cell": {
     "cellMetadata": {},
     "inputWidgets": {},
     "nuid": "60a66b13-5fc8-4af3-a392-867c67fd6aa9",
     "showTitle": false,
     "title": ""
    }
   },
   "source": [
    "6. total number of employees in each state in each department\n"
   ]
  },
  {
   "cell_type": "code",
   "execution_count": 0,
   "metadata": {
    "application/vnd.databricks.v1+cell": {
     "cellMetadata": {
      "byteLimit": 2048000,
      "rowLimit": 10000
     },
     "inputWidgets": {},
     "nuid": "ff0421be-93f1-4d66-beaf-f6ba1f395ebd",
     "showTitle": false,
     "title": ""
    }
   },
   "outputs": [
    {
     "output_type": "stream",
     "name": "stdout",
     "output_type": "stream",
     "text": [
      "+-----+----------+-----+\n|state|department|count|\n+-----+----------+-----+\n|   CA|     Sales|   42|\n|   CA| Marketing|   33|\n|   NY|  Accounts|   34|\n|   NY|     Sales|   27|\n|   CA|   Finance|   35|\n|   CA|  Accounts|   35|\n|   CA|Purchasing|   32|\n|   WA|        HR|   47|\n|   AK|Purchasing|   30|\n|   WA|  Accounts|   27|\n|   WA|Purchasing|   38|\n|   AK|     Sales|   38|\n|   AK|  Accounts|   37|\n|   WA| Marketing|   39|\n|   LA|        HR|   41|\n|   LA|     Sales|   35|\n|   AK|        HR|   25|\n|   LA|   Finance|   29|\n|   AK|   Finance|   37|\n|   LA|Purchasing|   45|\n+-----+----------+-----+\nonly showing top 20 rows\n\n"
     ]
    }
   ],
   "source": [
    "df.groupBy('state','department').count().show()"
   ]
  },
  {
   "cell_type": "markdown",
   "metadata": {
    "application/vnd.databricks.v1+cell": {
     "cellMetadata": {},
     "inputWidgets": {},
     "nuid": "422a95a8-efd5-4610-90f3-6463d23bd85e",
     "showTitle": false,
     "title": ""
    }
   },
   "source": [
    "7. minimum and maximum salary in each department and also sort the salary in ascending order"
   ]
  },
  {
   "cell_type": "code",
   "execution_count": 0,
   "metadata": {
    "application/vnd.databricks.v1+cell": {
     "cellMetadata": {
      "byteLimit": 2048000,
      "rowLimit": 10000
     },
     "inputWidgets": {},
     "nuid": "11a24dd8-24bc-4a62-a3cd-e869f477568a",
     "showTitle": false,
     "title": ""
    }
   },
   "outputs": [
    {
     "output_type": "stream",
     "name": "stdout",
     "output_type": "stream",
     "text": [
      "+----------+----+----+\n|department| min| max|\n+----------+----+----+\n|  Accounts|1007|9890|\n|   Finance|1006|9899|\n| Marketing|1031|9974|\n|        HR|1013|9982|\n|     Sales|1103|9982|\n|Purchasing|1105|9985|\n+----------+----+----+\n\n"
     ]
    }
   ],
   "source": [
    "df.groupBy(\"department\").agg(min(\"salary\").alias(\"min\"), max(\"salary\").alias(\"max\")).orderBy(col(\"max\").asc(), col(\"min\").asc()).show()\n"
   ]
  },
  {
   "cell_type": "markdown",
   "metadata": {
    "application/vnd.databricks.v1+cell": {
     "cellMetadata": {},
     "inputWidgets": {},
     "nuid": "8d59c883-0763-4bd2-891a-9259cbfb4079",
     "showTitle": false,
     "title": ""
    }
   },
   "source": [
    "8. show the names of employees working in NY state under Finance department whose bonuses are greater than the average bonuses of employees in NY state\n"
   ]
  },
  {
   "cell_type": "code",
   "execution_count": 0,
   "metadata": {
    "application/vnd.databricks.v1+cell": {
     "cellMetadata": {
      "byteLimit": 2048000,
      "rowLimit": 10000
     },
     "inputWidgets": {},
     "nuid": "0b6087a7-0fd6-4986-8999-a75f126e2884",
     "showTitle": false,
     "title": ""
    }
   },
   "outputs": [
    {
     "output_type": "stream",
     "name": "stdout",
     "output_type": "stream",
     "text": [
      "+-----------+--------------------+----------+-----+------+---+-----+\n|employee_id|       employee_name|department|state|salary|age|bonus|\n+-----------+--------------------+----------+-----+------+---+-----+\n|       1035|       Vivan Sifford|   Finance|   NY|  1129| 35| 1261|\n|       1073|      Herder Gallman|   Finance|   NY|  1988| 31| 1402|\n|       1082|          Nena Rocha|   Finance|   NY|  3417| 25| 1647|\n|       1087|       Leif Lemaster|   Finance|   NY|  8642| 45| 1782|\n|       1100|Ellingsworth Meli...|   Finance|   NY|  7845| 32| 1358|\n|       1127|        Escoto Gilma|   Finance|   NY|  3426| 41| 1285|\n|       1161|     Georgeanna Laub|   Finance|   NY|  2469| 26| 1679|\n|       1175|     Durio Tenenbaum|   Finance|   NY|  2253| 42| 1684|\n|       1180|       Juliana Grigg|   Finance|   NY|  8178| 42| 1617|\n|       1215|        Tiffani Benz|   Finance|   NY|  1665| 41| 1969|\n|       1220|          Nitz Ilana|   Finance|   NY|  2443| 50| 1342|\n|       1342|   Phylicia Antonina|   Finance|   NY|  8626| 30| 1857|\n|       1414|         Durio Janey|   Finance|   NY|  2992| 46| 1733|\n|       1660|       Melissia Jere|   Finance|   NY|  9201| 21| 1533|\n|       1737|      Yukiko Kreamer|   Finance|   NY|  7396| 20| 1332|\n|       1738|      Nena Kensinger|   Finance|   NY|  8534| 41| 1610|\n|       1815|      Antonina Ilana|   Finance|   NY|  2944| 28| 1718|\n+-----------+--------------------+----------+-----+------+---+-----+\n\n"
     ]
    }
   ],
   "source": [
    "avgBonus = df.filter(df.state == \"NY\").groupBy(\"state\").agg(avg(\"bonus\").alias(\"avg_bonus\")).select(\"avg_bonus\").collect()[0]['avg_bonus']\n",
    "df.filter((df.state == \"NY\") & (df.department == \"Finance\") & (df.bonus > avgBonus)).show()"
   ]
  },
  {
   "cell_type": "markdown",
   "metadata": {
    "application/vnd.databricks.v1+cell": {
     "cellMetadata": {},
     "inputWidgets": {},
     "nuid": "8080a3ed-fefa-43a2-9bdb-94bf982a2633",
     "showTitle": false,
     "title": ""
    }
   },
   "source": [
    "9. raise the salary $500 of all employees whose age is 45+"
   ]
  },
  {
   "cell_type": "code",
   "execution_count": 0,
   "metadata": {
    "application/vnd.databricks.v1+cell": {
     "cellMetadata": {
      "byteLimit": 2048000,
      "rowLimit": 10000
     },
     "inputWidgets": {},
     "nuid": "bebd8f5f-55c3-4de8-a844-c3852905c923",
     "showTitle": false,
     "title": ""
    }
   },
   "outputs": [
    {
     "output_type": "stream",
     "name": "stdout",
     "output_type": "stream",
     "text": [
      "+-----------+-------------------+----------+-----+------+---+-----+\n|employee_id|      employee_name|department|state|salary|age|bonus|\n+-----------+-------------------+----------+-----+------+---+-----+\n|       1000|          Nitz Leif| Marketing|   CA|  6131| 26|  543|\n|       1001|    Melissia Dedman|   Finance|   AK|  4027| 43| 1290|\n|       1002|  Rudolph Barringer|        HR|   LA|  3122| 43| 1445|\n|       1003|        Tamra Amber|  Accounts|   AK|  6217| 47| 1291|\n|       1004|        Mullan Nitz|Purchasing|   CA|  5685| 34| 1394|\n|       1005|      Zollner Karie|  Accounts|   CA|  2843| 27| 1078|\n|       1006|Kaczorowski Zollner|     Sales|   CA|  7201| 21| 1834|\n|       1007|      Nakano Locust| Marketing|   LA|  3444| 23| 1823|\n|       1008|  Recalde Kensinger|  Accounts|   LA|  4204| 48| 1330|\n|       1009|        Imai Hallie|  Accounts|   AK|  5061| 38| 1557|\n|       1010|    Debroah Gallman|  Accounts|   NY|  9308| 35|  817|\n|       1011|   Barringer Escoto|Purchasing|   WA|  2185| 49| 1706|\n|       1012|      Soules Coogan|  Accounts|   AK|  8330| 43| 1914|\n|       1013|      Luisa Suzanne|  Accounts|   CA|  1151| 37| 1095|\n|       1014|      Marvis Cobian|Purchasing|   NY|  5061| 41| 1765|\n|       1015|   Cobian Kensinger|     Sales|   LA|  1983| 21|  632|\n|       1016|      Gilma Margret| Marketing|   CA|  2919| 45| 1762|\n|       1017| Ellingsworth Ilana|  Accounts|   WA|  9614| 26| 1964|\n|       1018| Vankirk Jacquelyne|Purchasing|   NY|  9136| 47| 1192|\n|       1019|    Zollner Juliana|        HR|   NY|  9739| 30| 1119|\n+-----------+-------------------+----------+-----+------+---+-----+\nonly showing top 20 rows\n\n"
     ]
    }
   ],
   "source": [
    "def incr_salary(age, currentSalary):\n",
    "  if age > 45:\n",
    "    return currentSalary + 500\n",
    "  return currentSalary\n",
    "\n",
    "incrSalaryUDF = udf(lambda x,y : incr_salary(x,y), IntegerType())\n",
    "\n",
    "\n",
    "df.withColumn(\"salary\", incrSalaryUDF(col(\"age\"), col(\"salary\"))).show()"
   ]
  },
  {
   "cell_type": "markdown",
   "metadata": {
    "application/vnd.databricks.v1+cell": {
     "cellMetadata": {},
     "inputWidgets": {},
     "nuid": "797439bb-7385-44c7-b8a2-4df973addbde",
     "showTitle": false,
     "title": ""
    }
   },
   "source": [
    "10. create df of all those employees whose age is 45+ and save them in a file"
   ]
  },
  {
   "cell_type": "code",
   "execution_count": 0,
   "metadata": {
    "application/vnd.databricks.v1+cell": {
     "cellMetadata": {
      "byteLimit": 2048000,
      "rowLimit": 10000
     },
     "inputWidgets": {},
     "nuid": "b4973d2b-a6e1-438f-999b-642f31f476c6",
     "showTitle": false,
     "title": ""
    }
   },
   "outputs": [],
   "source": [
    "df.filter(df.age > 45).write.csv(\"/FileStore/tables/output_45\")"
   ]
  }
 ],
 "metadata": {
  "application/vnd.databricks.v1+notebook": {
   "dashboards": [],
   "environmentMetadata": null,
   "language": "python",
   "notebookMetadata": {
    "pythonIndentUnit": 4
   },
   "notebookName": "Office data project",
   "widgets": {}
  }
 },
 "nbformat": 4,
 "nbformat_minor": 0
}
